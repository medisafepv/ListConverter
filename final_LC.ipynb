{
 "cells": [
  {
   "cell_type": "markdown",
   "id": "778c348a-213e-40b3-9e32-dd035613657f",
   "metadata": {},
   "source": [
    "# Coding Confirmation to 일람표 Converter"
   ]
  },
  {
   "cell_type": "code",
   "execution_count": 12,
   "id": "b6121957-a9e1-43d3-8e54-c41fc6ef27eb",
   "metadata": {},
   "outputs": [
    {
     "name": "stdout",
     "output_type": "stream",
     "text": [
      "Upload Coding Confirmation (.xlsx)\n"
     ]
    },
    {
     "data": {
      "application/vnd.jupyter.widget-view+json": {
       "model_id": "cdb43305ecb3479ba914ed077eb7d054",
       "version_major": 2,
       "version_minor": 0
      },
      "text/plain": [
       "FileUpload(value={}, accept='*.xlsx', description='Upload')"
      ]
     },
     "metadata": {},
     "output_type": "display_data"
    }
   ],
   "source": [
    "import utility\n",
    "\n",
    "uploaded = utility.prompt_upload()"
   ]
  },
  {
   "cell_type": "code",
   "execution_count": 13,
   "id": "a12432f6-a371-4764-a111-46ac7ab52467",
   "metadata": {
    "tags": []
   },
   "outputs": [
    {
     "name": "stdout",
     "output_type": "stream",
     "text": [
      "File submitted...\n",
      "****************************************\n",
      "Summary\n",
      "Expectedness : ['Expected AE']\n",
      "중대성 : ['아니오']\n",
      "ADR 여부 : ['ADR']\n",
      "자료원 : ['자발보고']\n",
      "****************************************\n",
      "Check SOC, PT terms are unique:\n",
      "SOC\n",
      "['Gastrointestinal disorders (각종 위장관 장애)'\n",
      " 'Nervous system disorders (각종 신경계 장애)']\n",
      "PT\n",
      "['Constipation (변비)' 'Paraesthesia (지각 이상)']\n",
      "Check if 차수 is correct:\n",
      "\n",
      "['1-2차']\n",
      "\n"
     ]
    },
    {
     "name": "stdin",
     "output_type": "stream",
     "text": [
      "\tSelect the following option:\n",
      "\t1) Remove rows with specified characters (제외할 경우) \n",
      "\t2) Replace specific characters (오타인 경우) \n",
      "\t3) Correct. Next \n",
      "\tNumber:  3\n"
     ]
    },
    {
     "data": {
      "text/html": [
       "<div>\n",
       "<style scoped>\n",
       "    .dataframe tbody tr th:only-of-type {\n",
       "        vertical-align: middle;\n",
       "    }\n",
       "\n",
       "    .dataframe tbody tr th {\n",
       "        vertical-align: top;\n",
       "    }\n",
       "\n",
       "    .dataframe thead tr th {\n",
       "        text-align: left;\n",
       "    }\n",
       "\n",
       "    .dataframe thead tr:last-of-type th {\n",
       "        text-align: right;\n",
       "    }\n",
       "</style>\n",
       "<table border=\"1\" class=\"dataframe\">\n",
       "  <thead>\n",
       "    <tr>\n",
       "      <th></th>\n",
       "      <th></th>\n",
       "      <th>중대성</th>\n",
       "      <th colspan=\"2\" halign=\"left\">아니오</th>\n",
       "      <th>Expectedness</th>\n",
       "    </tr>\n",
       "    <tr>\n",
       "      <th></th>\n",
       "      <th></th>\n",
       "      <th>차수</th>\n",
       "      <th colspan=\"2\" halign=\"left\">1-2차</th>\n",
       "      <th></th>\n",
       "    </tr>\n",
       "    <tr>\n",
       "      <th></th>\n",
       "      <th></th>\n",
       "      <th>ADR 여부</th>\n",
       "      <th>ADR</th>\n",
       "      <th>non-ADR</th>\n",
       "      <th></th>\n",
       "    </tr>\n",
       "    <tr>\n",
       "      <th>SOC</th>\n",
       "      <th>PT</th>\n",
       "      <th>자료원</th>\n",
       "      <th></th>\n",
       "      <th></th>\n",
       "      <th></th>\n",
       "    </tr>\n",
       "  </thead>\n",
       "  <tbody>\n",
       "    <tr>\n",
       "      <th>Gastrointestinal disorders (각종 위장관 장애)</th>\n",
       "      <th>Constipation (변비)</th>\n",
       "      <th>자발보고</th>\n",
       "      <td>1</td>\n",
       "      <td>1</td>\n",
       "      <td>Expected AE</td>\n",
       "    </tr>\n",
       "    <tr>\n",
       "      <th>Nervous system disorders (각종 신경계 장애)</th>\n",
       "      <th>Paraesthesia (지각 이상)</th>\n",
       "      <th>자발보고</th>\n",
       "      <td>1</td>\n",
       "      <td>1</td>\n",
       "      <td>Expected AE</td>\n",
       "    </tr>\n",
       "  </tbody>\n",
       "</table>\n",
       "</div>"
      ],
      "text/plain": [
       "중대성                                                               아니오          \\\n",
       "차수                                                               1-2차           \n",
       "ADR 여부                                                            ADR non-ADR   \n",
       "SOC                                    PT                   자료원                 \n",
       "Gastrointestinal disorders (각종 위장관 장애) Constipation (변비)    자발보고    1       1   \n",
       "Nervous system disorders (각종 신경계 장애)   Paraesthesia (지각 이상) 자발보고    1       1   \n",
       "\n",
       "중대성                                                              Expectedness  \n",
       "차수                                                                             \n",
       "ADR 여부                                                                         \n",
       "SOC                                    PT                   자료원                \n",
       "Gastrointestinal disorders (각종 위장관 장애) Constipation (변비)    자발보고  Expected AE  \n",
       "Nervous system disorders (각종 신경계 장애)   Paraesthesia (지각 이상) 자발보고  Expected AE  "
      ]
     },
     "execution_count": 13,
     "metadata": {},
     "output_type": "execute_result"
    }
   ],
   "source": [
    "final = utility.control_process(uploaded[0], uploaded[1], 1)\n",
    "final"
   ]
  },
  {
   "cell_type": "code",
   "execution_count": 9,
   "id": "1adb64a2-76a0-440f-b81e-0c821d4b3e0d",
   "metadata": {},
   "outputs": [],
   "source": [
    "final.to_excel(\"L2-1m1_nospaces_updated.xlsx\")"
   ]
  },
  {
   "cell_type": "code",
   "execution_count": 14,
   "id": "2064a478-9470-467a-b215-fde2d33c948d",
   "metadata": {},
   "outputs": [
    {
     "name": "stdout",
     "output_type": "stream",
     "text": [
      "File submitted...\n",
      "****************************************\n",
      "Summary\n",
      "Expectedness : ['Expected AE']\n",
      "중대성 : ['아니오']\n",
      "ADR 여부 : ['ADR']\n",
      "자료원 : ['자발보고']\n",
      "****************************************\n",
      "Check SOC, PT terms are unique:\n",
      "SOC\n",
      "['Gastrointestinal disorders (각종 위장관 장애)'\n",
      " 'Nervous system disorders (각종 신경계 장애)']\n",
      "PT\n",
      "['Constipation (변비)' 'Paraesthesia (지각 이상)']\n",
      "Check if 차수 is correct:\n",
      "\n",
      "['1-2차']\n",
      "\n"
     ]
    },
    {
     "name": "stdin",
     "output_type": "stream",
     "text": [
      "\tSelect the following option:\n",
      "\t1) Remove rows with specified characters (제외할 경우) \n",
      "\t2) Replace specific characters (오타인 경우) \n",
      "\t3) Correct. Next \n",
      "\tNumber:  3\n"
     ]
    },
    {
     "name": "stderr",
     "output_type": "stream",
     "text": [
      "/Users/sionkim/Documents/medisafe/processing_task_061422/LC/utility.py:296: PerformanceWarning: dropping on a non-lexsorted multi-index without a level parameter may impact performance.\n",
      "  sum_stat = table_df.groupby(\"SOC\").sum()\n",
      "/Users/sionkim/Documents/medisafe/processing_task_061422/LC/utility.py:305: PerformanceWarning: dropping on a non-lexsorted multi-index without a level parameter may impact performance.\n",
      "  combined = combined.drop(columns=[\"SOC\", \"stat\", \"SOC#PT\"])\n"
     ]
    },
    {
     "data": {
      "text/html": [
       "<div>\n",
       "<style scoped>\n",
       "    .dataframe tbody tr th:only-of-type {\n",
       "        vertical-align: middle;\n",
       "    }\n",
       "\n",
       "    .dataframe tbody tr th {\n",
       "        vertical-align: top;\n",
       "    }\n",
       "\n",
       "    .dataframe thead tr th {\n",
       "        text-align: left;\n",
       "    }\n",
       "</style>\n",
       "<table border=\"1\" class=\"dataframe\">\n",
       "  <thead>\n",
       "    <tr>\n",
       "      <th>중대성</th>\n",
       "      <th>PT</th>\n",
       "      <th>자료원</th>\n",
       "      <th colspan=\"2\" halign=\"left\">아니오</th>\n",
       "      <th>Expectedness</th>\n",
       "    </tr>\n",
       "    <tr>\n",
       "      <th>차수</th>\n",
       "      <th></th>\n",
       "      <th></th>\n",
       "      <th colspan=\"2\" halign=\"left\">1-2차</th>\n",
       "      <th></th>\n",
       "    </tr>\n",
       "    <tr>\n",
       "      <th>ADR 여부</th>\n",
       "      <th></th>\n",
       "      <th></th>\n",
       "      <th>ADR</th>\n",
       "      <th>non-ADR</th>\n",
       "      <th></th>\n",
       "    </tr>\n",
       "  </thead>\n",
       "  <tbody>\n",
       "    <tr>\n",
       "      <th>0</th>\n",
       "      <td>Gastrointestinal disorders (각종 위장관 장애)</td>\n",
       "      <td></td>\n",
       "      <td>1</td>\n",
       "      <td>1</td>\n",
       "      <td></td>\n",
       "    </tr>\n",
       "    <tr>\n",
       "      <th>1</th>\n",
       "      <td>Constipation (변비)</td>\n",
       "      <td>자발보고</td>\n",
       "      <td>1</td>\n",
       "      <td>1</td>\n",
       "      <td>Expected AE</td>\n",
       "    </tr>\n",
       "    <tr>\n",
       "      <th>2</th>\n",
       "      <td>Nervous system disorders (각종 신경계 장애)</td>\n",
       "      <td></td>\n",
       "      <td>1</td>\n",
       "      <td>1</td>\n",
       "      <td></td>\n",
       "    </tr>\n",
       "    <tr>\n",
       "      <th>3</th>\n",
       "      <td>Paraesthesia (지각 이상)</td>\n",
       "      <td>자발보고</td>\n",
       "      <td>1</td>\n",
       "      <td>1</td>\n",
       "      <td>Expected AE</td>\n",
       "    </tr>\n",
       "  </tbody>\n",
       "</table>\n",
       "</div>"
      ],
      "text/plain": [
       "중대성                                         PT   자료원  아니오         Expectedness\n",
       "차수                                                   1-2차                     \n",
       "ADR 여부                                                ADR non-ADR             \n",
       "0       Gastrointestinal disorders (각종 위장관 장애)          1       1             \n",
       "1                            Constipation (변비)  자발보고    1       1  Expected AE\n",
       "2         Nervous system disorders (각종 신경계 장애)          1       1             \n",
       "3                         Paraesthesia (지각 이상)  자발보고    1       1  Expected AE"
      ]
     },
     "execution_count": 14,
     "metadata": {},
     "output_type": "execute_result"
    }
   ],
   "source": [
    "final = utility.control_process(uploaded[0], uploaded[1], 0)\n",
    "final"
   ]
  },
  {
   "cell_type": "code",
   "execution_count": 11,
   "id": "ed115381-3cad-45c7-90b3-8e04fbe3a5cf",
   "metadata": {},
   "outputs": [],
   "source": [
    "final.to_excel(\"L2-1m0_nospaces_updated.xlsx\")"
   ]
  },
  {
   "cell_type": "code",
   "execution_count": 34,
   "id": "223ba387-a7b2-40fd-a787-020a2c5a4216",
   "metadata": {},
   "outputs": [],
   "source": [
    "# !jupyter nbextension enable --py widgetsnbextension --sys-prefix\n",
    "# !jupyter serverextension enable voila --sys-prefix"
   ]
  }
 ],
 "metadata": {
  "kernelspec": {
   "display_name": "Python 3 (ipykernel)",
   "language": "python",
   "name": "python3"
  },
  "language_info": {
   "codemirror_mode": {
    "name": "ipython",
    "version": 3
   },
   "file_extension": ".py",
   "mimetype": "text/x-python",
   "name": "python",
   "nbconvert_exporter": "python",
   "pygments_lexer": "ipython3",
   "version": "3.9.12"
  }
 },
 "nbformat": 4,
 "nbformat_minor": 5
}

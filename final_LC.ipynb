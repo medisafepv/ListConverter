{
 "cells": [
  {
   "cell_type": "markdown",
   "id": "778c348a-213e-40b3-9e32-dd035613657f",
   "metadata": {},
   "source": [
    "# Coding Confirmation to 일람표 Converter"
   ]
  },
  {
   "cell_type": "code",
   "execution_count": 8,
   "id": "b6121957-a9e1-43d3-8e54-c41fc6ef27eb",
   "metadata": {},
   "outputs": [
    {
     "name": "stdout",
     "output_type": "stream",
     "text": [
      "Upload Coding Confirmation (.xlsx)\n"
     ]
    },
    {
     "data": {
      "application/vnd.jupyter.widget-view+json": {
       "model_id": "ede255359551436b80411053c7244bb5",
       "version_major": 2,
       "version_minor": 0
      },
      "text/plain": [
       "FileUpload(value={}, accept='*.xlsx', description='Upload')"
      ]
     },
     "metadata": {},
     "output_type": "display_data"
    }
   ],
   "source": [
    "import utility\n",
    "\n",
    "uploaded = utility.prompt_upload()"
   ]
  },
  {
   "cell_type": "code",
   "execution_count": 7,
   "id": "a12432f6-a371-4764-a111-46ac7ab52467",
   "metadata": {
    "tags": []
   },
   "outputs": [
    {
     "name": "stdout",
     "output_type": "stream",
     "text": [
      "Note: 일람표 포맷 선택 되었습니다. 포맷 변경은 option=1로 가능합니다.\n",
      "File submitted...\n",
      "****************************************\n",
      "Excel column summary\n",
      "    Expectedness : ['Expected AE']\n",
      "    중대성 : ['아니오' '예']\n",
      "    ADR 여부 : ['ADR']\n",
      "    자료원 : ['자발보고']\n",
      "****************************************\n",
      "Excel MedDRA (SOC, PT) summary\n",
      "    SOC\n",
      "   * Gastrointestinal disorders (각종 위장관 장애)\n",
      "   * Nervous system disorders (각종 신경계 장애)\n",
      "    PT\n",
      "   * Constipation (변비)\n",
      "   * Paraesthesia (지각 이상)\n",
      "****************************************\n",
      "Check if 차수 is correct:\n",
      "\n",
      "['1-2차']\n",
      "\n"
     ]
    },
    {
     "name": "stdin",
     "output_type": "stream",
     "text": [
      "\t모드를 숫자로 선택 후 'Enter'키로 이동하세요:\n",
      "\t1) 제목 삭제 모드 (모든 매치 제거) \n",
      "\t2) 제목 수정 모드 (오타인 경우) \n",
      "\t3) 확인. 다음 \n",
      "\tNumber:  3\n"
     ]
    },
    {
     "data": {
      "text/html": [
       "<div>\n",
       "<style scoped>\n",
       "    .dataframe tbody tr th:only-of-type {\n",
       "        vertical-align: middle;\n",
       "    }\n",
       "\n",
       "    .dataframe tbody tr th {\n",
       "        vertical-align: top;\n",
       "    }\n",
       "\n",
       "    .dataframe thead tr th {\n",
       "        text-align: left;\n",
       "    }\n",
       "</style>\n",
       "<table border=\"1\" class=\"dataframe\">\n",
       "  <thead>\n",
       "    <tr>\n",
       "      <th>중대성</th>\n",
       "      <th>이상사례종류</th>\n",
       "      <th colspan=\"2\" halign=\"left\">중대한</th>\n",
       "      <th colspan=\"2\" halign=\"left\">중대하지 않은</th>\n",
       "      <th>허가사항반영여부</th>\n",
       "      <th>수집원</th>\n",
       "    </tr>\n",
       "    <tr>\n",
       "      <th>차수</th>\n",
       "      <th></th>\n",
       "      <th colspan=\"2\" halign=\"left\">1-2차</th>\n",
       "      <th colspan=\"2\" halign=\"left\">1-2차</th>\n",
       "      <th></th>\n",
       "      <th></th>\n",
       "    </tr>\n",
       "    <tr>\n",
       "      <th>ADR 여부</th>\n",
       "      <th></th>\n",
       "      <th>이상사례, 건</th>\n",
       "      <th>약물이상반응, 건</th>\n",
       "      <th>이상사례, 건</th>\n",
       "      <th>약물이상반응, 건</th>\n",
       "      <th></th>\n",
       "      <th></th>\n",
       "    </tr>\n",
       "  </thead>\n",
       "  <tbody>\n",
       "    <tr>\n",
       "      <th>0</th>\n",
       "      <td>Gastrointestinal disorders (각종 위장관 장애)</td>\n",
       "      <td>0</td>\n",
       "      <td>0</td>\n",
       "      <td>1</td>\n",
       "      <td>1</td>\n",
       "      <td></td>\n",
       "      <td></td>\n",
       "    </tr>\n",
       "    <tr>\n",
       "      <th>1</th>\n",
       "      <td>Constipation (변비)</td>\n",
       "      <td>0</td>\n",
       "      <td>0</td>\n",
       "      <td>1</td>\n",
       "      <td>1</td>\n",
       "      <td>Expected AE</td>\n",
       "      <td>자발보고</td>\n",
       "    </tr>\n",
       "    <tr>\n",
       "      <th>2</th>\n",
       "      <td>Nervous system disorders (각종 신경계 장애)</td>\n",
       "      <td>1</td>\n",
       "      <td>1</td>\n",
       "      <td>1</td>\n",
       "      <td>1</td>\n",
       "      <td></td>\n",
       "      <td></td>\n",
       "    </tr>\n",
       "    <tr>\n",
       "      <th>3</th>\n",
       "      <td>Paraesthesia (지각 이상)</td>\n",
       "      <td>1</td>\n",
       "      <td>1</td>\n",
       "      <td>1</td>\n",
       "      <td>1</td>\n",
       "      <td>Expected AE</td>\n",
       "      <td>자발보고</td>\n",
       "    </tr>\n",
       "  </tbody>\n",
       "</table>\n",
       "</div>"
      ],
      "text/plain": [
       "중대성                                     이상사례종류     중대한           중대하지 않은  \\\n",
       "차수                                                1-2차              1-2차   \n",
       "ADR 여부                                         이상사례, 건 약물이상반응, 건 이상사례, 건   \n",
       "0       Gastrointestinal disorders (각종 위장관 장애)       0         0       1   \n",
       "1                            Constipation (변비)       0         0       1   \n",
       "2         Nervous system disorders (각종 신경계 장애)       1         1       1   \n",
       "3                         Paraesthesia (지각 이상)       1         1       1   \n",
       "\n",
       "중대성                  허가사항반영여부   수집원  \n",
       "차수                                   \n",
       "ADR 여부 약물이상반응, 건                     \n",
       "0              1                     \n",
       "1              1  Expected AE  자발보고  \n",
       "2              1                     \n",
       "3              1  Expected AE  자발보고  "
      ]
     },
     "execution_count": 7,
     "metadata": {},
     "output_type": "execute_result"
    }
   ],
   "source": [
    "final = utility.control_process(uploaded[0], uploaded[1], option=0)\n",
    "final"
   ]
  },
  {
   "cell_type": "code",
   "execution_count": 10,
   "id": "1adb64a2-76a0-440f-b81e-0c821d4b3e0d",
   "metadata": {},
   "outputs": [],
   "source": [
    "final.to_excel(\"파일 이름.xlsx\")"
   ]
  }
 ],
 "metadata": {
  "kernelspec": {
   "display_name": "Python 3 (ipykernel)",
   "language": "python",
   "name": "python3"
  },
  "language_info": {
   "codemirror_mode": {
    "name": "ipython",
    "version": 3
   },
   "file_extension": ".py",
   "mimetype": "text/x-python",
   "name": "python",
   "nbconvert_exporter": "python",
   "pygments_lexer": "ipython3",
   "version": "3.9.12"
  }
 },
 "nbformat": 4,
 "nbformat_minor": 5
}

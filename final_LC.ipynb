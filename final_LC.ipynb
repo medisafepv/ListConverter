{
 "cells": [
  {
   "cell_type": "markdown",
   "id": "778c348a-213e-40b3-9e32-dd035613657f",
   "metadata": {
    "deletable": false,
    "editable": false,
    "tags": []
   },
   "source": [
    "# Coding Confirmation to 일람표 Converter"
   ]
  },
  {
   "cell_type": "markdown",
   "id": "7d06fc6a-1a95-4756-adf7-7db483b2f278",
   "metadata": {
    "deletable": false,
    "editable": false,
    "tags": []
   },
   "source": [
    "Cell을 순서대로 선택하고 (오른 마우스 클릭) 파랗게 선택된 상태에 cell을 실행하세요 `Shift` + `Enter`\n",
    "* Cell 옆에 별표 `[*]`은 계산중이나 사용자 입력을 기다리는 뜻을 의미합니다.\n",
    "* 파일 업로드 후, `(1)` 표시 확인.\n",
    "* 파일을 다시 업로드하는 경우, cell을 다시 실행 하세요 (1. cell 선택 2. cell 실행 `Shift` + `Enter`)"
   ]
  },
  {
   "cell_type": "code",
   "execution_count": 2,
   "id": "b6121957-a9e1-43d3-8e54-c41fc6ef27eb",
   "metadata": {
    "deletable": false,
    "editable": false,
    "tags": []
   },
   "outputs": [
    {
     "data": {
      "application/vnd.jupyter.widget-view+json": {
       "model_id": "4c600e8edad14ceb9e77753311a78567",
       "version_major": 2,
       "version_minor": 0
      },
      "text/plain": [
       "FileUpload(value={}, description='Upload Coding Confirmation (.xlsx)', layout=Layout(width='270px'))"
      ]
     },
     "metadata": {},
     "output_type": "display_data"
    }
   ],
   "source": [
    "import utility\n",
    "\n",
    "uploaded = utility.prompt_upload()"
   ]
  },
  {
   "cell_type": "markdown",
   "id": "fd110a4c-22ec-4ae5-aff1-b548e802d5dd",
   "metadata": {
    "deletable": false,
    "editable": false,
    "tags": []
   },
   "source": [
    "문자 처리하는 두 가지 모드가 있습니다\n",
    "\n",
    "1. 삭제 모드: 사용자가 입력한 문자와 정확히 일치하는 행(또는 열) 삭제\n",
    "    * 행/열 삭제는 상황에 따라서 자동으로 구분합니다.\n",
    "2. 수정 모드: Excel 테이블의 값을 편집 (실수의 경우 등). \n",
    "    * E.g., ADR 열이 3개의 값이 있는 경우 `[\"ADR\", \"non-ADR\", \"non ADR\"]`, 두가지 방법으로 처리할 수 있습니다. \n",
    "        * \"non-ADR\"을 \"non ADR\"로 수정 (하이픈 `-` 제거)\n",
    "        * 반대로 \"non ADR\"을 \"non-ADR\"로 수정 (하이픈 `-` 추가)"
   ]
  },
  {
   "cell_type": "markdown",
   "id": "c38bfd9c-80f5-4eea-9ab7-941d9029b440",
   "metadata": {
    "deletable": false,
    "editable": false,
    "tags": []
   },
   "source": [
    "에러나 다시 입력해야하는 경우의 패널 중지 (▣)을 누르시고, cell을 다시 실행하세요"
   ]
  },
  {
   "cell_type": "code",
   "execution_count": null,
   "id": "a12432f6-a371-4764-a111-46ac7ab52467",
   "metadata": {
    "deletable": false,
    "tags": []
   },
   "outputs": [
    {
     "name": "stdout",
     "output_type": "stream",
     "text": [
      "Note: 일람표 포맷 선택 되었습니다. 포맷 변경은 option=1로 가능합니다.\n",
      "File submitted...\n",
      "Column 'Expectedness' is not binary: ['Unexpected AE' 'Expected AE' 'UNEXPECTED AE']\n"
     ]
    },
    {
     "name": "stdin",
     "output_type": "stream",
     "text": [
      "\t모드를 숫자로 선택 후 'Enter'키로 이동하세요:\n",
      "\t1) 제목 삭제 모드 (모든 매치 제거) \n",
      "\t2) 제목 수정 모드 (오타인 경우) \n",
      "\tEnter:  2\n",
      "\t제거할 문자열:  UNEXPECTED AE\n",
      "\t대체할 문자열:  Unexpected AE\n"
     ]
    },
    {
     "name": "stdout",
     "output_type": "stream",
     "text": [
      "Column '중대성' is not binary: ['예' '아니오' 'Yes' '이니오']\n"
     ]
    },
    {
     "name": "stdin",
     "output_type": "stream",
     "text": [
      "\t모드를 숫자로 선택 후 'Enter'키로 이동하세요:\n",
      "\t1) 제목 삭제 모드 (모든 매치 제거) \n",
      "\t2) 제목 수정 모드 (오타인 경우) \n",
      "\tEnter:  2\n",
      "\t제거할 문자열:  Yes\n",
      "\t대체할 문자열:  예\n"
     ]
    },
    {
     "name": "stdout",
     "output_type": "stream",
     "text": [
      "Binary 처리 실패. '중대성'\n",
      "['예' '아니오' '이니오']\n",
      "Column '중대성' is not binary: ['예' '아니오' '이니오']\n"
     ]
    },
    {
     "name": "stdin",
     "output_type": "stream",
     "text": [
      "\t모드를 숫자로 선택 후 'Enter'키로 이동하세요:\n",
      "\t1) 제목 삭제 모드 (모든 매치 제거) \n",
      "\t2) 제목 수정 모드 (오타인 경우) \n",
      "\tEnter:  2\n",
      "\t제거할 문자열:  이니오\n",
      "\t대체할 문자열:  아니오\n"
     ]
    },
    {
     "name": "stdout",
     "output_type": "stream",
     "text": [
      "Column 'ADR 여부' is not binary: ['ADR' 'adr' 'NON ADR' 'non ADR']\n"
     ]
    }
   ],
   "source": [
    "pd.options.mode.chained_assignment = None \n",
    "final = utility.control_process(uploaded[0], uploaded[1], option=0)\n",
    "final"
   ]
  },
  {
   "cell_type": "markdown",
   "id": "f9fa34fb-25ba-45f5-811a-841ce64f4be7",
   "metadata": {
    "deletable": false,
    "editable": false,
    "tags": []
   },
   "source": [
    "파일 내보내기: \n",
    "1. `to_excel(\"파일 이름\")`함수 안에 원하는 파일 이름으로 편집 (끝에 \".xlsx\"은 필수)\n",
    "2. Cell을 선택하고 실행 해주세요 (`Shift` + `Enter`).\n",
    "3. 왼쪽 파일 탐색기에서 엑셀 파일이 만들어집니다. 파일에 오른쪽 마우스 클릭 하시고 `download` 옵션을 선택하세요. "
   ]
  },
  {
   "cell_type": "code",
   "execution_count": 10,
   "id": "1adb64a2-76a0-440f-b81e-0c821d4b3e0d",
   "metadata": {
    "deletable": false,
    "editable": true,
    "tags": []
   },
   "outputs": [],
   "source": [
    "final.to_excel(\"파일 이름.xlsx\")"
   ]
  },
  {
   "cell_type": "markdown",
   "id": "28794407-14dc-48d3-bd89-0f53d578c51a",
   "metadata": {
    "deletable": false,
    "editable": false,
    "tags": []
   },
   "source": [
    "#### 프로그램 종료: 브라우저 창을 닫은 후, 저장에 대한 메시지가 나타나면 저장 안 함을 클릭하세요"
   ]
  }
 ],
 "metadata": {
  "kernelspec": {
   "display_name": "Python 3 (ipykernel)",
   "language": "python",
   "name": "python3"
  },
  "language_info": {
   "codemirror_mode": {
    "name": "ipython",
    "version": 3
   },
   "file_extension": ".py",
   "mimetype": "text/x-python",
   "name": "python",
   "nbconvert_exporter": "python",
   "pygments_lexer": "ipython3",
   "version": "3.9.12"
  }
 },
 "nbformat": 4,
 "nbformat_minor": 5
}

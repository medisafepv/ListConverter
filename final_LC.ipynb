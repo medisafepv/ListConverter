{
 "cells": [
  {
   "cell_type": "markdown",
   "id": "778c348a-213e-40b3-9e32-dd035613657f",
   "metadata": {
    "deletable": false,
    "editable": false,
    "tags": []
   },
   "source": [
    "# Coding Confirmation to 일람표 Converter"
   ]
  },
  {
   "cell_type": "markdown",
   "id": "7d06fc6a-1a95-4756-adf7-7db483b2f278",
   "metadata": {
    "deletable": false,
    "editable": false,
    "tags": []
   },
   "source": [
    "Cell을 순서대로 선택하고 (오른 마우스 클릭) 파랗게 선택된 상태에 cell을 실행하세요 `Shift` + `Enter`\n",
    "* Cell 옆에 별표 `[*]`은 계산중이나 사용자 입력을 기다리는 뜻을 의미합니다.\n",
    "* 파일 업로드 후, `(1)` 표시 확인.\n",
    "* 파일을 다시 업로드하는 경우, cell을 다시 실행 하세요 (1. cell 선택 2. cell 실행 `Shift` + `Enter`)"
   ]
  },
  {
   "cell_type": "code",
   "execution_count": 5,
   "id": "b6121957-a9e1-43d3-8e54-c41fc6ef27eb",
   "metadata": {
    "deletable": false,
    "editable": false,
    "tags": []
   },
   "outputs": [
    {
     "data": {
      "application/vnd.jupyter.widget-view+json": {
       "model_id": "d3303bf6e6fc440199d88d08bef6ddf4",
       "version_major": 2,
       "version_minor": 0
      },
      "text/plain": [
       "FileUpload(value={}, description='Upload Coding Confirmation (.xlsx)', layout=Layout(width='270px'))"
      ]
     },
     "metadata": {},
     "output_type": "display_data"
    }
   ],
   "source": [
    "import utility\n",
    "\n",
    "uploaded = utility.prompt_upload()"
   ]
  },
  {
   "cell_type": "markdown",
   "id": "fd110a4c-22ec-4ae5-aff1-b548e802d5dd",
   "metadata": {
    "deletable": false,
    "editable": false,
    "tags": []
   },
   "source": [
    "문자 처리하는 두 가지 모드가 있습니다\n",
    "\n",
    "1. 삭제 모드: 사용자가 입력한 문자와 정확히 일치하는 행(또는 열) 삭제\n",
    "    * 행/열 삭제는 상황에 따라서 자동으로 구분합니다.\n",
    "2. 수정 모드: Excel 테이블의 값을 편집 (실수의 경우 등). \n",
    "    * E.g., ADR 열이 3개의 값이 있는 경우 `[\"ADR\", \"non-ADR\", \"non ADR\"]`, 두가지 방법으로 처리할 수 있습니다. \n",
    "        * \"non-ADR\"을 \"non ADR\"로 수정 (하이픈 `-` 제거)\n",
    "        * 반대로 \"non ADR\"을 \"non-ADR\"로 수정 (하이픈 `-` 추가)"
   ]
  },
  {
   "cell_type": "markdown",
   "id": "c38bfd9c-80f5-4eea-9ab7-941d9029b440",
   "metadata": {
    "deletable": false,
    "editable": false,
    "tags": []
   },
   "source": [
    "에러나 다시 입력해야하는 경우의 패널 중지 (▣)을 누르시고, cell을 다시 실행하세요"
   ]
  },
  {
   "cell_type": "code",
   "execution_count": null,
   "id": "ed225c43-186e-466b-8977-bdd49d2cb4e7",
   "metadata": {
    "deletable": false,
    "tags": []
   },
   "outputs": [
    {
     "name": "stdout",
     "output_type": "stream",
     "text": [
      "Note: 일람표 포맷 선택 되었습니다. 포맷 변경은 option=1로 가능합니다.\n",
      "File submitted...\n",
      "Column 'Expectedness' is not binary: ['Unexpected AE' 'Expected AE' 'UNEXPECTED AE']\n"
     ]
    },
    {
     "name": "stdin",
     "output_type": "stream",
     "text": [
      "\t모드를 숫자로 선택 후 'Enter'키로 이동하세요:\n",
      "\t1) 제목 삭제 모드 (모든 매치 제거) \n",
      "\t2) 제목 수정 모드 (오타인 경우) \n",
      "\tEnter:  1\n",
      "\t\t(정확히) 일치하는 행 제거:  UNEXPECTED AE\n"
     ]
    },
    {
     "name": "stdout",
     "output_type": "stream",
     "text": [
      "Column '중대성' is not binary: ['예' '아니오' 'Yes' '이니오']\n"
     ]
    },
    {
     "name": "stdin",
     "output_type": "stream",
     "text": [
      "\t모드를 숫자로 선택 후 'Enter'키로 이동하세요:\n",
      "\t1) 제목 삭제 모드 (모든 매치 제거) \n",
      "\t2) 제목 수정 모드 (오타인 경우) \n",
      "\tEnter:  2\n",
      "\t제거할 문자열:  이니오\n",
      "\t대체할 문자열:  아니오\n"
     ]
    },
    {
     "name": "stdout",
     "output_type": "stream",
     "text": [
      "Binary 처리 실패. '중대성'\n",
      "['예' '아니오' 'Yes']\n",
      "Column '중대성' is not binary: ['예' '아니오' 'Yes']\n"
     ]
    },
    {
     "name": "stdin",
     "output_type": "stream",
     "text": [
      "\t모드를 숫자로 선택 후 'Enter'키로 이동하세요:\n",
      "\t1) 제목 삭제 모드 (모든 매치 제거) \n",
      "\t2) 제목 수정 모드 (오타인 경우) \n",
      "\tEnter:  1\n",
      "\t\t(정확히) 일치하는 행 제거:  Yes\n"
     ]
    },
    {
     "name": "stdout",
     "output_type": "stream",
     "text": [
      "Column 'ADR 여부' is not binary: ['ADR' 'adr' 'NON ADR' 'non ADR']\n"
     ]
    },
    {
     "name": "stdin",
     "output_type": "stream",
     "text": [
      "\t모드를 숫자로 선택 후 'Enter'키로 이동하세요:\n",
      "\t1) 제목 삭제 모드 (모든 매치 제거) \n",
      "\t2) 제목 수정 모드 (오타인 경우) \n",
      "\tEnter:  2\n",
      "\t제거할 문자열:  non ADR\n",
      "\t대체할 문자열:  NON ADR\n"
     ]
    },
    {
     "name": "stdout",
     "output_type": "stream",
     "text": [
      "Binary 처리 실패. 'ADR 여부'\n",
      "['ADR' 'adr' 'NON ADR']\n",
      "Column 'ADR 여부' is not binary: ['ADR' 'adr' 'NON ADR']\n"
     ]
    },
    {
     "name": "stdin",
     "output_type": "stream",
     "text": [
      "\t모드를 숫자로 선택 후 'Enter'키로 이동하세요:\n",
      "\t1) 제목 삭제 모드 (모든 매치 제거) \n",
      "\t2) 제목 수정 모드 (오타인 경우) \n",
      "\tEnter:  1\n",
      "\t\t(정확히) 일치하는 행 제거:  adr\n"
     ]
    },
    {
     "name": "stdout",
     "output_type": "stream",
     "text": [
      "****************************************\n",
      "Excel column summary\n",
      "    Expectedness : ['Unexpected AE' 'Expected AE']\n",
      "    중대성 : ['예' '아니오']\n",
      "    ADR 여부 : ['ADR' 'NON ADR']\n",
      "    자료원 : ['자발보고' '조사연구']\n",
      "****************************************\n",
      "****************************************\n",
      "Excel column summary\n",
      "    Expectedness : ['Unexpected AE' 'Expected AE']\n",
      "    중대성 : ['예' '아니오']\n",
      "    ADR 여부 : ['ADR' 'NON ADR']\n",
      "    자료원 : ['자발보고' '조사연구']\n",
      "****************************************\n",
      "****************************************\n",
      "Excel column summary\n",
      "    Expectedness : ['Unexpected AE' 'Expected AE']\n",
      "    중대성 : ['예' '아니오']\n",
      "    ADR 여부 : ['ADR' 'NON ADR']\n",
      "    자료원 : ['자발보고' '조사연구']\n",
      "****************************************\n",
      "Excel MedDRA (SOC, PT) summary\n",
      "    SOC\n",
      "   * Blood and lymphatic system disorders (혈액 및 림프계 장애)\n",
      "   * Cardiac disorders (각종 심장 장애)\n",
      "   * Gastrointestinal disorders (각종 위장관 장애)\n",
      "   * General disorders and administration site conditions (전신 장애 및 투여 부위 병태)\n",
      "   * Hepatobiliary disorders (간담도 장애)\n",
      "   * Infections and infestations (감염 및 기생충 감염)\n",
      "   * Investigations (임상 검사)\n",
      "   * Metabolism and nutrition disorders (대사 및 영양 장애)\n",
      "   * Musculoskeletal and connective tissue disorders (근골격 및 결합 조직 장애)\n",
      "   * Neoplasms benign, malignant and unspecified (incl cysts and polyps) (양성, 악성 및 상세 불명의 신생물(낭종 및 용종 포함))\n",
      "   * Nervous system disorders (각종 신경계 장애)\n",
      "   * Renal and urinary disorders (신장 및 요로 장애)\n",
      "   * Respiratory, thoracic and mediastinal disorders (호흡기, 흉곽 및 종격 장애)\n",
      "   * Skin and subcutaneous tissue disorders (피부 및 피하 조직 장애)\n",
      "   * Vascular disorders (각종 혈관 장애)\n",
      "    PT\n",
      "   * Abdominal hernia (복부 탈장)\n",
      "   * Abdominal pain (복통)\n",
      "   * Abscess (농양)\n",
      "   * Acute kidney injury (급성 신 손상)\n",
      "   * Anaemia (빈혈)\n",
      "   * Aortic aneurysm (대동맥류)\n",
      "   * Aspartate aminotransferase increased (아스파르트산 아미노 전이 효소 증가)\n",
      "   * Asphyxia (질식)\n",
      "   * Basal ganglia haemorrhage (기저핵 출혈)\n",
      "   * Blood creatinine increased (혈액 크레아티닌 증가)\n",
      "   * Cardiac failure (심부전)\n",
      "   * Cellulitis (연조직염)\n",
      "   * Cholangitis (담관염)\n",
      "   * Decreased appetite (식욕 감소)\n",
      "   * Disease recurrence (질환 재발)\n",
      "   * Dysarthria (조음 장애)\n",
      "   * Dyspepsia (소화 불량)\n",
      "   * Fatigue (피로)\n",
      "   * Feeding disorder (섭식 장애)\n",
      "   * Gastrointestinal haemorrhage (위장관 출혈)\n",
      "   * Haemoglobin decreased (헤모글로빈 감소)\n",
      "   * Headache (두통)\n",
      "   * Hydronephrosis (수신증)\n",
      "   * Hypoaesthesia (감각 저하)\n",
      "   * Immune-mediated lung disease (면역-매개 폐 질환)\n",
      "   * Lymphadenopathy (림프절 병증)\n",
      "   * Lymphadenopathy mediastinal (종격동 림프절 병증)\n",
      "   * Lymphoedema (림프 부종)\n",
      "   * Malignant neoplasm progression (악성 신생물 진행)\n",
      "   * Metastases to meninges (수막에 전이)\n",
      "   * Metastases to peritoneum (복막에 전이)\n",
      "   * Muscular weakness (근육 쇠약)\n",
      "   * Myelodysplastic syndrome (골수 형성 이상 증후군)\n",
      "   * Myelosuppression (골수 억제)\n",
      "   * Nausea (구역)\n",
      "   * Neoplasm malignant (악성 신생물)\n",
      "   * Neutropenia (중성구 감소증)\n",
      "   * Neutrophil count decreased (중성구 수 감소)\n",
      "   * Oropharyngeal pain (구인두 통증)\n",
      "   * Periodontitis (치주염)\n",
      "   * Pneumonitis (폐염증)\n",
      "   * Pulmonary embolism (폐 색전증)\n",
      "   * Purpura (자색반)\n",
      "   * Pyrexia (발열)\n",
      "   * Rash (발진)\n",
      "   * Renal impairment (신 기능 장애)\n",
      "   * Rhinitis allergic (알레르기성 비염)\n",
      "   * Stomatitis (구내염)\n",
      "   * Thrombocytopenia (혈소판 감소증)\n",
      "   * Urinary retention (소변 정체)\n",
      "   * Urinary tract infection (요로 감염)\n",
      "   * Urinary tract obstruction (요로 폐색)\n",
      "   * Vomiting (구토)\n",
      "****************************************\n",
      "Check if 차수 is correct:\n",
      "\n",
      "['2-2차' '2-2차 ->2-1차' '2-2차 -> 2-1차' '2-2차 -> 1-2차' '2-2차 -> 1-1차']\n",
      "\n"
     ]
    },
    {
     "name": "stdin",
     "output_type": "stream",
     "text": [
      "\t모드를 숫자로 선택 후 'Enter'키로 이동하세요:\n",
      "\t1) 제목 삭제 모드 (모든 매치 제거) \n",
      "\t2) 제목 수정 모드 (오타인 경우) \n",
      "\t3) 확인. 다음 \n",
      "\tNumber:  2\n"
     ]
    }
   ],
   "source": [
    "final = utility.control_process(uploaded[0], uploaded[1], option=0)\n",
    "final"
   ]
  },
  {
   "cell_type": "markdown",
   "id": "f9fa34fb-25ba-45f5-811a-841ce64f4be7",
   "metadata": {
    "deletable": false,
    "editable": false,
    "tags": []
   },
   "source": [
    "파일 내보내기: \n",
    "1. `to_excel(\"파일 이름\")`함수 안에 원하는 파일 이름으로 편집 (끝에 \".xlsx\"은 필수)\n",
    "2. Cell을 선택하고 실행 해주세요 (`Shift` + `Enter`).\n",
    "3. 왼쪽 파일 탐색기에서 엑셀 파일이 만들어집니다. 파일에 오른쪽 마우스 클릭 하시고 `download` 옵션을 선택하세요. "
   ]
  },
  {
   "cell_type": "code",
   "execution_count": 10,
   "id": "1adb64a2-76a0-440f-b81e-0c821d4b3e0d",
   "metadata": {
    "deletable": false,
    "editable": true,
    "tags": []
   },
   "outputs": [],
   "source": [
    "final.to_excel(\"파일 이름.xlsx\")"
   ]
  },
  {
   "cell_type": "markdown",
   "id": "28794407-14dc-48d3-bd89-0f53d578c51a",
   "metadata": {
    "deletable": false,
    "editable": false,
    "tags": []
   },
   "source": [
    "#### 프로그램 종료: 브라우저 창을 닫은 후, 저장에 대한 메시지가 나타나면 저장 안 함을 클릭하세요"
   ]
  }
 ],
 "metadata": {
  "kernelspec": {
   "display_name": "Python 3 (ipykernel)",
   "language": "python",
   "name": "python3"
  },
  "language_info": {
   "codemirror_mode": {
    "name": "ipython",
    "version": 3
   },
   "file_extension": ".py",
   "mimetype": "text/x-python",
   "name": "python",
   "nbconvert_exporter": "python",
   "pygments_lexer": "ipython3",
   "version": "3.9.12"
  }
 },
 "nbformat": 4,
 "nbformat_minor": 5
}
